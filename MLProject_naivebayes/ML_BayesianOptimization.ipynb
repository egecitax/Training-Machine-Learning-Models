{
 "cells": [
  {
   "cell_type": "code",
   "execution_count": null,
   "id": "a72d93e3",
   "metadata": {},
   "outputs": [],
   "source": [
    "from sklearn.model_selection import train_test_split\n",
    "from sklearn.naive_bayes import BernoulliNB \n",
    "from sklearn.metrics import accuracy_score\n",
    "from sklearn.metrics import classification_report, confusion_matrix\n",
    "import matplotlib.pyplot as plt\n",
    "import pandas as pd\n",
    "from skopt import BayesSearchCV\n",
    "\n",
    "\n",
    "df = pd.read_csv('C:\\\\Users\\\\ATC\\\\Desktop\\\\my_notebooks\\\\diabetes.csv')\n",
    "\n",
    "X = df.drop(columns=['Outcome'])\n",
    "y = df['Outcome']\n",
    "\n",
    "X_train,X_test,y_train,y_test = train_test_split(X,y,test_size=0.2,random_state=42)\n",
    "\n",
    "param = {\n",
    "    'alpha': (0.1, 10.0),  # Smoothing parameter\n",
    "    'binarize': (0.0, 1.0),  # Binarization threshold\n",
    "    'fit_prior': [True, False],  # Whether to learn class prior probabilities or not\n",
    "}\n",
    "\n",
    "\n",
    "optimizer = BayesSearchCV(\n",
    "    BernoulliNB(),\n",
    "    search_spaces=param,\n",
    "    n_iter=200,  \n",
    "    random_state=42,\n",
    "    cv=10\n",
    ")\n",
    "\n",
    "optimizer.fit(X_train,y_train)\n",
    "\n",
    "best_params = optimizer.best_params_\n",
    "best_score = optimizer.best_score_\n",
    "best_model = optimizer.best_estimator_\n",
    "test_accuracy = optimizer.best_score_\n",
    "\n",
    "print(\"Best hyperparameters are \", best_params, \" Best score is: \",best_score,\" Best model is: \",best_model,\" Test accuracys is:\"\n",
    "    , test_accuracy )\n"
   ]
  }
 ],
 "metadata": {
  "kernelspec": {
   "display_name": "Python 3 (ipykernel)",
   "language": "python",
   "name": "python3"
  },
  "language_info": {
   "codemirror_mode": {
    "name": "ipython",
    "version": 3
   },
   "file_extension": ".py",
   "mimetype": "text/x-python",
   "name": "python",
   "nbconvert_exporter": "python",
   "pygments_lexer": "ipython3",
   "version": "3.9.13"
  }
 },
 "nbformat": 4,
 "nbformat_minor": 5
}
